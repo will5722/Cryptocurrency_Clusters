{
 "cells": [
  {
   "cell_type": "code",
   "execution_count": 1,
   "id": "30b72387",
   "metadata": {},
   "outputs": [],
   "source": [
    "from sklearn.decomposition import PCA\n",
    "from sklearn.pipeline import Pipeline\n",
    "from sklearn.preprocessing import StandardScaler\n",
    "from sklearn.model_selection import GridSearchCV\n",
    "from sklearn.model_selection import train_test_split\n",
    "from sklearn.manifold import TSNE\n",
    "from sklearn.cluster import KMeans\n",
    "import matplotlib.pyplot as plt\n",
    "import numpy as np\n",
    "import pandas as pd\n",
    "from pathlib import Path"
   ]
  },
  {
   "cell_type": "markdown",
   "id": "a123d236",
   "metadata": {},
   "source": [
    "## Preprocessing"
   ]
  },
  {
   "cell_type": "code",
   "execution_count": 2,
   "id": "e26b62a7",
   "metadata": {},
   "outputs": [
    {
     "data": {
      "text/html": [
       "<div>\n",
       "<style scoped>\n",
       "    .dataframe tbody tr th:only-of-type {\n",
       "        vertical-align: middle;\n",
       "    }\n",
       "\n",
       "    .dataframe tbody tr th {\n",
       "        vertical-align: top;\n",
       "    }\n",
       "\n",
       "    .dataframe thead th {\n",
       "        text-align: right;\n",
       "    }\n",
       "</style>\n",
       "<table border=\"1\" class=\"dataframe\">\n",
       "  <thead>\n",
       "    <tr style=\"text-align: right;\">\n",
       "      <th></th>\n",
       "      <th>CoinName</th>\n",
       "      <th>Algorithm</th>\n",
       "      <th>IsTrading</th>\n",
       "      <th>ProofType</th>\n",
       "      <th>TotalCoinsMined</th>\n",
       "      <th>TotalCoinSupply</th>\n",
       "    </tr>\n",
       "  </thead>\n",
       "  <tbody>\n",
       "    <tr>\n",
       "      <th>0</th>\n",
       "      <td>42 Coin</td>\n",
       "      <td>Scrypt</td>\n",
       "      <td>True</td>\n",
       "      <td>PoW/PoS</td>\n",
       "      <td>4.199995e+01</td>\n",
       "      <td>42</td>\n",
       "    </tr>\n",
       "    <tr>\n",
       "      <th>1</th>\n",
       "      <td>365Coin</td>\n",
       "      <td>X11</td>\n",
       "      <td>True</td>\n",
       "      <td>PoW/PoS</td>\n",
       "      <td>NaN</td>\n",
       "      <td>2300000000</td>\n",
       "    </tr>\n",
       "    <tr>\n",
       "      <th>2</th>\n",
       "      <td>404Coin</td>\n",
       "      <td>Scrypt</td>\n",
       "      <td>True</td>\n",
       "      <td>PoW/PoS</td>\n",
       "      <td>1.055185e+09</td>\n",
       "      <td>532000000</td>\n",
       "    </tr>\n",
       "    <tr>\n",
       "      <th>3</th>\n",
       "      <td>SixEleven</td>\n",
       "      <td>SHA-256</td>\n",
       "      <td>True</td>\n",
       "      <td>PoW</td>\n",
       "      <td>NaN</td>\n",
       "      <td>611000</td>\n",
       "    </tr>\n",
       "    <tr>\n",
       "      <th>4</th>\n",
       "      <td>808</td>\n",
       "      <td>SHA-256</td>\n",
       "      <td>True</td>\n",
       "      <td>PoW/PoS</td>\n",
       "      <td>0.000000e+00</td>\n",
       "      <td>0</td>\n",
       "    </tr>\n",
       "  </tbody>\n",
       "</table>\n",
       "</div>"
      ],
      "text/plain": [
       "    CoinName Algorithm  IsTrading ProofType  TotalCoinsMined TotalCoinSupply\n",
       "0    42 Coin    Scrypt       True   PoW/PoS     4.199995e+01              42\n",
       "1    365Coin       X11       True   PoW/PoS              NaN      2300000000\n",
       "2    404Coin    Scrypt       True   PoW/PoS     1.055185e+09       532000000\n",
       "3  SixEleven   SHA-256       True       PoW              NaN          611000\n",
       "4        808   SHA-256       True   PoW/PoS     0.000000e+00               0"
      ]
     },
     "execution_count": 2,
     "metadata": {},
     "output_type": "execute_result"
    }
   ],
   "source": [
    "# Loading data\n",
    "file_path = Path(\"crypto_data.csv\")\n",
    "df = pd.read_csv(file_path)\n",
    "df = df.drop('Unnamed: 0', axis=1)\n",
    "df.head()"
   ]
  },
  {
   "cell_type": "code",
   "execution_count": 3,
   "id": "94ec2b22",
   "metadata": {},
   "outputs": [
    {
     "data": {
      "text/html": [
       "<div>\n",
       "<style scoped>\n",
       "    .dataframe tbody tr th:only-of-type {\n",
       "        vertical-align: middle;\n",
       "    }\n",
       "\n",
       "    .dataframe tbody tr th {\n",
       "        vertical-align: top;\n",
       "    }\n",
       "\n",
       "    .dataframe thead th {\n",
       "        text-align: right;\n",
       "    }\n",
       "</style>\n",
       "<table border=\"1\" class=\"dataframe\">\n",
       "  <thead>\n",
       "    <tr style=\"text-align: right;\">\n",
       "      <th></th>\n",
       "      <th>CoinName</th>\n",
       "      <th>Algorithm</th>\n",
       "      <th>ProofType</th>\n",
       "      <th>TotalCoinsMined</th>\n",
       "      <th>TotalCoinSupply</th>\n",
       "    </tr>\n",
       "  </thead>\n",
       "  <tbody>\n",
       "    <tr>\n",
       "      <th>0</th>\n",
       "      <td>42 Coin</td>\n",
       "      <td>Scrypt</td>\n",
       "      <td>PoW/PoS</td>\n",
       "      <td>4.199995e+01</td>\n",
       "      <td>42</td>\n",
       "    </tr>\n",
       "    <tr>\n",
       "      <th>1</th>\n",
       "      <td>365Coin</td>\n",
       "      <td>X11</td>\n",
       "      <td>PoW/PoS</td>\n",
       "      <td>NaN</td>\n",
       "      <td>2300000000</td>\n",
       "    </tr>\n",
       "    <tr>\n",
       "      <th>2</th>\n",
       "      <td>404Coin</td>\n",
       "      <td>Scrypt</td>\n",
       "      <td>PoW/PoS</td>\n",
       "      <td>1.055185e+09</td>\n",
       "      <td>532000000</td>\n",
       "    </tr>\n",
       "    <tr>\n",
       "      <th>3</th>\n",
       "      <td>SixEleven</td>\n",
       "      <td>SHA-256</td>\n",
       "      <td>PoW</td>\n",
       "      <td>NaN</td>\n",
       "      <td>611000</td>\n",
       "    </tr>\n",
       "    <tr>\n",
       "      <th>4</th>\n",
       "      <td>808</td>\n",
       "      <td>SHA-256</td>\n",
       "      <td>PoW/PoS</td>\n",
       "      <td>0.000000e+00</td>\n",
       "      <td>0</td>\n",
       "    </tr>\n",
       "  </tbody>\n",
       "</table>\n",
       "</div>"
      ],
      "text/plain": [
       "    CoinName Algorithm ProofType  TotalCoinsMined TotalCoinSupply\n",
       "0    42 Coin    Scrypt   PoW/PoS     4.199995e+01              42\n",
       "1    365Coin       X11   PoW/PoS              NaN      2300000000\n",
       "2    404Coin    Scrypt   PoW/PoS     1.055185e+09       532000000\n",
       "3  SixEleven   SHA-256       PoW              NaN          611000\n",
       "4        808   SHA-256   PoW/PoS     0.000000e+00               0"
      ]
     },
     "execution_count": 3,
     "metadata": {},
     "output_type": "execute_result"
    }
   ],
   "source": [
    "# Keep cryptocurrencies that are trading\n",
    "df = df.loc[df['IsTrading'] == True]\n",
    "# Drop IsTrading column\n",
    "df = df.drop('IsTrading', axis=1)\n",
    "df.head()"
   ]
  },
  {
   "cell_type": "code",
   "execution_count": 4,
   "id": "f79b80dd",
   "metadata": {},
   "outputs": [
    {
     "data": {
      "text/plain": [
       "459"
      ]
     },
     "execution_count": 4,
     "metadata": {},
     "output_type": "execute_result"
    }
   ],
   "source": [
    "# Count of rows with null values\n",
    "df.isnull().values.sum()"
   ]
  },
  {
   "cell_type": "code",
   "execution_count": 5,
   "id": "41b5755f",
   "metadata": {},
   "outputs": [],
   "source": [
    "# Delete rows with null values\n",
    "df = df.dropna()"
   ]
  },
  {
   "cell_type": "code",
   "execution_count": 6,
   "id": "d95c6837",
   "metadata": {},
   "outputs": [
    {
     "data": {
      "text/html": [
       "<div>\n",
       "<style scoped>\n",
       "    .dataframe tbody tr th:only-of-type {\n",
       "        vertical-align: middle;\n",
       "    }\n",
       "\n",
       "    .dataframe tbody tr th {\n",
       "        vertical-align: top;\n",
       "    }\n",
       "\n",
       "    .dataframe thead th {\n",
       "        text-align: right;\n",
       "    }\n",
       "</style>\n",
       "<table border=\"1\" class=\"dataframe\">\n",
       "  <thead>\n",
       "    <tr style=\"text-align: right;\">\n",
       "      <th></th>\n",
       "      <th>CoinName</th>\n",
       "      <th>Algorithm</th>\n",
       "      <th>ProofType</th>\n",
       "      <th>TotalCoinsMined</th>\n",
       "      <th>TotalCoinSupply</th>\n",
       "    </tr>\n",
       "  </thead>\n",
       "  <tbody>\n",
       "    <tr>\n",
       "      <th>0</th>\n",
       "      <td>42 Coin</td>\n",
       "      <td>Scrypt</td>\n",
       "      <td>PoW/PoS</td>\n",
       "      <td>4.199995e+01</td>\n",
       "      <td>42</td>\n",
       "    </tr>\n",
       "    <tr>\n",
       "      <th>2</th>\n",
       "      <td>404Coin</td>\n",
       "      <td>Scrypt</td>\n",
       "      <td>PoW/PoS</td>\n",
       "      <td>1.055185e+09</td>\n",
       "      <td>532000000</td>\n",
       "    </tr>\n",
       "    <tr>\n",
       "      <th>5</th>\n",
       "      <td>EliteCoin</td>\n",
       "      <td>X13</td>\n",
       "      <td>PoW/PoS</td>\n",
       "      <td>2.927942e+10</td>\n",
       "      <td>314159265359</td>\n",
       "    </tr>\n",
       "    <tr>\n",
       "      <th>7</th>\n",
       "      <td>Bitcoin</td>\n",
       "      <td>SHA-256</td>\n",
       "      <td>PoW</td>\n",
       "      <td>1.792718e+07</td>\n",
       "      <td>21000000</td>\n",
       "    </tr>\n",
       "    <tr>\n",
       "      <th>8</th>\n",
       "      <td>Ethereum</td>\n",
       "      <td>Ethash</td>\n",
       "      <td>PoW</td>\n",
       "      <td>1.076842e+08</td>\n",
       "      <td>0</td>\n",
       "    </tr>\n",
       "  </tbody>\n",
       "</table>\n",
       "</div>"
      ],
      "text/plain": [
       "    CoinName Algorithm ProofType  TotalCoinsMined TotalCoinSupply\n",
       "0    42 Coin    Scrypt   PoW/PoS     4.199995e+01              42\n",
       "2    404Coin    Scrypt   PoW/PoS     1.055185e+09       532000000\n",
       "5  EliteCoin       X13   PoW/PoS     2.927942e+10    314159265359\n",
       "7    Bitcoin   SHA-256       PoW     1.792718e+07        21000000\n",
       "8   Ethereum    Ethash       PoW     1.076842e+08               0"
      ]
     },
     "execution_count": 6,
     "metadata": {},
     "output_type": "execute_result"
    }
   ],
   "source": [
    "# Only keep coins that have been mined\n",
    "df = df.loc[df['TotalCoinsMined'] > 0]\n",
    "df.head()"
   ]
  },
  {
   "cell_type": "code",
   "execution_count": 7,
   "id": "ebc67e51",
   "metadata": {},
   "outputs": [
    {
     "data": {
      "text/html": [
       "<div>\n",
       "<style scoped>\n",
       "    .dataframe tbody tr th:only-of-type {\n",
       "        vertical-align: middle;\n",
       "    }\n",
       "\n",
       "    .dataframe tbody tr th {\n",
       "        vertical-align: top;\n",
       "    }\n",
       "\n",
       "    .dataframe thead th {\n",
       "        text-align: right;\n",
       "    }\n",
       "</style>\n",
       "<table border=\"1\" class=\"dataframe\">\n",
       "  <thead>\n",
       "    <tr style=\"text-align: right;\">\n",
       "      <th></th>\n",
       "      <th>Algorithm</th>\n",
       "      <th>ProofType</th>\n",
       "      <th>TotalCoinsMined</th>\n",
       "      <th>TotalCoinSupply</th>\n",
       "    </tr>\n",
       "  </thead>\n",
       "  <tbody>\n",
       "    <tr>\n",
       "      <th>0</th>\n",
       "      <td>Scrypt</td>\n",
       "      <td>PoW/PoS</td>\n",
       "      <td>4.199995e+01</td>\n",
       "      <td>42</td>\n",
       "    </tr>\n",
       "    <tr>\n",
       "      <th>2</th>\n",
       "      <td>Scrypt</td>\n",
       "      <td>PoW/PoS</td>\n",
       "      <td>1.055185e+09</td>\n",
       "      <td>532000000</td>\n",
       "    </tr>\n",
       "    <tr>\n",
       "      <th>5</th>\n",
       "      <td>X13</td>\n",
       "      <td>PoW/PoS</td>\n",
       "      <td>2.927942e+10</td>\n",
       "      <td>314159265359</td>\n",
       "    </tr>\n",
       "    <tr>\n",
       "      <th>7</th>\n",
       "      <td>SHA-256</td>\n",
       "      <td>PoW</td>\n",
       "      <td>1.792718e+07</td>\n",
       "      <td>21000000</td>\n",
       "    </tr>\n",
       "    <tr>\n",
       "      <th>8</th>\n",
       "      <td>Ethash</td>\n",
       "      <td>PoW</td>\n",
       "      <td>1.076842e+08</td>\n",
       "      <td>0</td>\n",
       "    </tr>\n",
       "  </tbody>\n",
       "</table>\n",
       "</div>"
      ],
      "text/plain": [
       "  Algorithm ProofType  TotalCoinsMined TotalCoinSupply\n",
       "0    Scrypt   PoW/PoS     4.199995e+01              42\n",
       "2    Scrypt   PoW/PoS     1.055185e+09       532000000\n",
       "5       X13   PoW/PoS     2.927942e+10    314159265359\n",
       "7   SHA-256       PoW     1.792718e+07        21000000\n",
       "8    Ethash       PoW     1.076842e+08               0"
      ]
     },
     "execution_count": 7,
     "metadata": {},
     "output_type": "execute_result"
    }
   ],
   "source": [
    "# Drop CoinName column\n",
    "df = df.drop('CoinName', axis=1)\n",
    "df.head()"
   ]
  },
  {
   "cell_type": "code",
   "execution_count": 8,
   "id": "896ff459",
   "metadata": {},
   "outputs": [
    {
     "data": {
      "text/plain": [
       "96"
      ]
     },
     "execution_count": 8,
     "metadata": {},
     "output_type": "execute_result"
    }
   ],
   "source": [
    "# Convert Algorithm and ProofType to numerical data\n",
    "df_dummies = pd.get_dummies(df, columns=['Algorithm', 'ProofType'], drop_first=True)\n",
    "#df_dummies.head()\n",
    "# Amount of features\n",
    "len(df_dummies.columns)"
   ]
  },
  {
   "cell_type": "code",
   "execution_count": 9,
   "id": "4fe5b8b8",
   "metadata": {},
   "outputs": [],
   "source": [
    "# Standardize dataset\n",
    "scaler = StandardScaler()\n",
    "df_scaled = scaler.fit_transform(df_dummies)"
   ]
  },
  {
   "cell_type": "markdown",
   "id": "bc0cfb36",
   "metadata": {},
   "source": [
    "## PCA"
   ]
  },
  {
   "cell_type": "code",
   "execution_count": 10,
   "id": "6b383201",
   "metadata": {},
   "outputs": [
    {
     "data": {
      "text/plain": [
       "array([[-3.35913620e-01,  1.04340531e+00, -5.37409264e-01, ...,\n",
       "        -4.85489047e-15,  1.07931886e-15, -3.68612450e-15],\n",
       "       [-3.19248850e-01,  1.04354697e+00, -5.37804309e-01, ...,\n",
       "        -5.38929259e-15,  1.75379096e-15, -3.70941688e-15],\n",
       "       [ 2.30471594e+00,  1.66999561e+00, -6.24076993e-01, ...,\n",
       "         3.13661745e-14,  1.17980418e-14,  8.13976487e-14],\n",
       "       ...,\n",
       "       [ 3.24179380e-01, -2.32278089e+00,  3.87363001e-01, ...,\n",
       "         1.06556095e-14, -5.25796882e-14, -4.80053104e-14],\n",
       "       [-1.49546262e-01, -2.05899360e+00,  3.79619710e-01, ...,\n",
       "        -2.51309183e-15,  2.20270997e-15,  1.00123180e-16],\n",
       "       [-2.90587486e-01,  8.27023611e-01, -2.51533368e-01, ...,\n",
       "        -5.23143617e-15, -2.00246361e-17,  1.10636114e-15]])"
      ]
     },
     "execution_count": 10,
     "metadata": {},
     "output_type": "execute_result"
    }
   ],
   "source": [
    "# Preserve 90% of the explained variance\n",
    "pca = PCA(n_components=0.9)\n",
    "crypto_pca = pca.fit_transform(df_scaled)\n",
    "crypto_pca"
   ]
  },
  {
   "cell_type": "code",
   "execution_count": 11,
   "id": "c922bf1d",
   "metadata": {},
   "outputs": [
    {
     "data": {
      "text/html": [
       "<div>\n",
       "<style scoped>\n",
       "    .dataframe tbody tr th:only-of-type {\n",
       "        vertical-align: middle;\n",
       "    }\n",
       "\n",
       "    .dataframe tbody tr th {\n",
       "        vertical-align: top;\n",
       "    }\n",
       "\n",
       "    .dataframe thead th {\n",
       "        text-align: right;\n",
       "    }\n",
       "</style>\n",
       "<table border=\"1\" class=\"dataframe\">\n",
       "  <thead>\n",
       "    <tr style=\"text-align: right;\">\n",
       "      <th></th>\n",
       "      <th>0</th>\n",
       "      <th>1</th>\n",
       "      <th>2</th>\n",
       "      <th>3</th>\n",
       "      <th>4</th>\n",
       "      <th>5</th>\n",
       "      <th>6</th>\n",
       "      <th>7</th>\n",
       "      <th>8</th>\n",
       "      <th>9</th>\n",
       "      <th>...</th>\n",
       "      <th>64</th>\n",
       "      <th>65</th>\n",
       "      <th>66</th>\n",
       "      <th>67</th>\n",
       "      <th>68</th>\n",
       "      <th>69</th>\n",
       "      <th>70</th>\n",
       "      <th>71</th>\n",
       "      <th>72</th>\n",
       "      <th>73</th>\n",
       "    </tr>\n",
       "  </thead>\n",
       "  <tbody>\n",
       "    <tr>\n",
       "      <th>0</th>\n",
       "      <td>-0.335914</td>\n",
       "      <td>1.043405</td>\n",
       "      <td>-0.537409</td>\n",
       "      <td>0.001347</td>\n",
       "      <td>-4.342438e-14</td>\n",
       "      <td>3.292943e-14</td>\n",
       "      <td>-0.013578</td>\n",
       "      <td>-1.329940</td>\n",
       "      <td>-0.053106</td>\n",
       "      <td>-0.333927</td>\n",
       "      <td>...</td>\n",
       "      <td>2.632041e-15</td>\n",
       "      <td>-4.345358e-15</td>\n",
       "      <td>4.882929e-15</td>\n",
       "      <td>8.637706e-16</td>\n",
       "      <td>2.629988e-15</td>\n",
       "      <td>3.116222e-15</td>\n",
       "      <td>-2.815918e-15</td>\n",
       "      <td>-4.854890e-15</td>\n",
       "      <td>1.079319e-15</td>\n",
       "      <td>-3.686125e-15</td>\n",
       "    </tr>\n",
       "    <tr>\n",
       "      <th>1</th>\n",
       "      <td>-0.319249</td>\n",
       "      <td>1.043547</td>\n",
       "      <td>-0.537804</td>\n",
       "      <td>0.001337</td>\n",
       "      <td>-4.353565e-14</td>\n",
       "      <td>3.300131e-14</td>\n",
       "      <td>-0.014190</td>\n",
       "      <td>-1.332705</td>\n",
       "      <td>-0.057966</td>\n",
       "      <td>-0.330612</td>\n",
       "      <td>...</td>\n",
       "      <td>2.716263e-15</td>\n",
       "      <td>-4.301673e-15</td>\n",
       "      <td>5.277102e-15</td>\n",
       "      <td>1.116838e-15</td>\n",
       "      <td>2.958672e-15</td>\n",
       "      <td>3.600895e-15</td>\n",
       "      <td>-2.604527e-15</td>\n",
       "      <td>-5.389293e-15</td>\n",
       "      <td>1.753791e-15</td>\n",
       "      <td>-3.709417e-15</td>\n",
       "    </tr>\n",
       "    <tr>\n",
       "      <th>2</th>\n",
       "      <td>2.304716</td>\n",
       "      <td>1.669996</td>\n",
       "      <td>-0.624077</td>\n",
       "      <td>0.004420</td>\n",
       "      <td>-7.163138e-14</td>\n",
       "      <td>4.562749e-14</td>\n",
       "      <td>-0.062312</td>\n",
       "      <td>-1.554093</td>\n",
       "      <td>-0.945690</td>\n",
       "      <td>0.375087</td>\n",
       "      <td>...</td>\n",
       "      <td>2.578384e-14</td>\n",
       "      <td>1.279050e-13</td>\n",
       "      <td>-5.579044e-15</td>\n",
       "      <td>-4.297681e-14</td>\n",
       "      <td>-6.769530e-14</td>\n",
       "      <td>-2.647300e-14</td>\n",
       "      <td>6.603147e-14</td>\n",
       "      <td>3.136617e-14</td>\n",
       "      <td>1.179804e-14</td>\n",
       "      <td>8.139765e-14</td>\n",
       "    </tr>\n",
       "    <tr>\n",
       "      <th>3</th>\n",
       "      <td>-0.145455</td>\n",
       "      <td>-1.323925</td>\n",
       "      <td>0.177429</td>\n",
       "      <td>-0.001167</td>\n",
       "      <td>1.568585e-14</td>\n",
       "      <td>-1.157654e-14</td>\n",
       "      <td>0.000326</td>\n",
       "      <td>0.283548</td>\n",
       "      <td>0.252906</td>\n",
       "      <td>-0.079820</td>\n",
       "      <td>...</td>\n",
       "      <td>-2.322055e-15</td>\n",
       "      <td>2.244566e-14</td>\n",
       "      <td>2.000945e-15</td>\n",
       "      <td>6.822673e-15</td>\n",
       "      <td>-5.273049e-15</td>\n",
       "      <td>-2.218323e-15</td>\n",
       "      <td>1.843810e-14</td>\n",
       "      <td>5.692991e-15</td>\n",
       "      <td>-3.886395e-15</td>\n",
       "      <td>1.158925e-14</td>\n",
       "    </tr>\n",
       "    <tr>\n",
       "      <th>4</th>\n",
       "      <td>-0.151951</td>\n",
       "      <td>-2.044976</td>\n",
       "      <td>0.364208</td>\n",
       "      <td>-0.001636</td>\n",
       "      <td>4.162041e-14</td>\n",
       "      <td>-2.559851e-14</td>\n",
       "      <td>0.032350</td>\n",
       "      <td>0.524429</td>\n",
       "      <td>0.191031</td>\n",
       "      <td>0.074021</td>\n",
       "      <td>...</td>\n",
       "      <td>-6.830833e-14</td>\n",
       "      <td>2.051847e-14</td>\n",
       "      <td>-3.004372e-14</td>\n",
       "      <td>3.595210e-14</td>\n",
       "      <td>3.200430e-14</td>\n",
       "      <td>-2.627485e-14</td>\n",
       "      <td>4.982388e-14</td>\n",
       "      <td>-1.627207e-14</td>\n",
       "      <td>-1.172439e-13</td>\n",
       "      <td>-1.308203e-13</td>\n",
       "    </tr>\n",
       "  </tbody>\n",
       "</table>\n",
       "<p>5 rows × 74 columns</p>\n",
       "</div>"
      ],
      "text/plain": [
       "         0         1         2         3             4             5   \\\n",
       "0 -0.335914  1.043405 -0.537409  0.001347 -4.342438e-14  3.292943e-14   \n",
       "1 -0.319249  1.043547 -0.537804  0.001337 -4.353565e-14  3.300131e-14   \n",
       "2  2.304716  1.669996 -0.624077  0.004420 -7.163138e-14  4.562749e-14   \n",
       "3 -0.145455 -1.323925  0.177429 -0.001167  1.568585e-14 -1.157654e-14   \n",
       "4 -0.151951 -2.044976  0.364208 -0.001636  4.162041e-14 -2.559851e-14   \n",
       "\n",
       "         6         7         8         9   ...            64            65  \\\n",
       "0 -0.013578 -1.329940 -0.053106 -0.333927  ...  2.632041e-15 -4.345358e-15   \n",
       "1 -0.014190 -1.332705 -0.057966 -0.330612  ...  2.716263e-15 -4.301673e-15   \n",
       "2 -0.062312 -1.554093 -0.945690  0.375087  ...  2.578384e-14  1.279050e-13   \n",
       "3  0.000326  0.283548  0.252906 -0.079820  ... -2.322055e-15  2.244566e-14   \n",
       "4  0.032350  0.524429  0.191031  0.074021  ... -6.830833e-14  2.051847e-14   \n",
       "\n",
       "             66            67            68            69            70  \\\n",
       "0  4.882929e-15  8.637706e-16  2.629988e-15  3.116222e-15 -2.815918e-15   \n",
       "1  5.277102e-15  1.116838e-15  2.958672e-15  3.600895e-15 -2.604527e-15   \n",
       "2 -5.579044e-15 -4.297681e-14 -6.769530e-14 -2.647300e-14  6.603147e-14   \n",
       "3  2.000945e-15  6.822673e-15 -5.273049e-15 -2.218323e-15  1.843810e-14   \n",
       "4 -3.004372e-14  3.595210e-14  3.200430e-14 -2.627485e-14  4.982388e-14   \n",
       "\n",
       "             71            72            73  \n",
       "0 -4.854890e-15  1.079319e-15 -3.686125e-15  \n",
       "1 -5.389293e-15  1.753791e-15 -3.709417e-15  \n",
       "2  3.136617e-14  1.179804e-14  8.139765e-14  \n",
       "3  5.692991e-15 -3.886395e-15  1.158925e-14  \n",
       "4 -1.627207e-14 -1.172439e-13 -1.308203e-13  \n",
       "\n",
       "[5 rows x 74 columns]"
      ]
     },
     "execution_count": 11,
     "metadata": {},
     "output_type": "execute_result"
    }
   ],
   "source": [
    "# Tranform PCA to dataframe\n",
    "df_crypto_pca = pd.DataFrame(data=crypto_pca)\n",
    "df_crypto_pca.head()"
   ]
  },
  {
   "cell_type": "code",
   "execution_count": 12,
   "id": "dc1c7812",
   "metadata": {},
   "outputs": [
    {
     "data": {
      "text/plain": [
       "array([0.02851314, 0.02183228, 0.02093007, 0.02087258, 0.02087257,\n",
       "       0.02087257, 0.02085124, 0.01910435, 0.0179288 , 0.01777379,\n",
       "       0.01662938, 0.01629408, 0.01583495, 0.01464966, 0.0134856 ,\n",
       "       0.01262337, 0.01231377, 0.01127287, 0.01093674, 0.01070932,\n",
       "       0.01062572, 0.01060732, 0.01059359, 0.0105697 , 0.01055562,\n",
       "       0.01051051, 0.01049655, 0.01049558, 0.01049558, 0.01049558,\n",
       "       0.01049381, 0.01048438, 0.01047714, 0.01047581, 0.01047329,\n",
       "       0.01047115, 0.01046928, 0.01046411, 0.01046265, 0.01045618,\n",
       "       0.01045597, 0.01045597, 0.01045525, 0.01045351, 0.01044982,\n",
       "       0.01044805, 0.0104431 , 0.01043743, 0.01043628, 0.01043628,\n",
       "       0.01043628, 0.01043628, 0.01043628, 0.01043628, 0.01043628,\n",
       "       0.01043628, 0.01043628, 0.01043628, 0.01043628, 0.01043628,\n",
       "       0.01043628, 0.01043628, 0.01043628, 0.01043628, 0.01043628,\n",
       "       0.01043628, 0.01043628, 0.01043628, 0.01043628, 0.01043628,\n",
       "       0.01043628, 0.01043628, 0.01043628, 0.01043628])"
      ]
     },
     "execution_count": 12,
     "metadata": {},
     "output_type": "execute_result"
    }
   ],
   "source": [
    "# Fetch the explained variance\n",
    "pca.explained_variance_ratio_"
   ]
  },
  {
   "cell_type": "markdown",
   "id": "a6151d6f",
   "metadata": {},
   "source": [
    "## t-SNE"
   ]
  },
  {
   "cell_type": "code",
   "execution_count": 13,
   "id": "8fbc43ac",
   "metadata": {},
   "outputs": [],
   "source": [
    "# Create t-SNE model\n",
    "tsne = TSNE(learning_rate=40)"
   ]
  },
  {
   "cell_type": "code",
   "execution_count": 14,
   "id": "763cfe4a",
   "metadata": {},
   "outputs": [],
   "source": [
    "# Reduce dimensions\n",
    "tsne_features = tsne.fit_transform(df_crypto_pca)"
   ]
  },
  {
   "cell_type": "code",
   "execution_count": 15,
   "id": "65bd8ebe",
   "metadata": {},
   "outputs": [
    {
     "data": {
      "text/plain": [
       "(532, 2)"
      ]
     },
     "execution_count": 15,
     "metadata": {},
     "output_type": "execute_result"
    }
   ],
   "source": [
    "# Check shape\n",
    "tsne_features.shape"
   ]
  },
  {
   "cell_type": "code",
   "execution_count": 16,
   "id": "be6654ca",
   "metadata": {},
   "outputs": [],
   "source": [
    "# Prepare to plot the dataset\n",
    "# The first column of transformed features\n",
    "x = tsne_features[:,0]\n",
    "\n",
    "# The second column of transformed features\n",
    "y = tsne_features[:,1]"
   ]
  },
  {
   "cell_type": "code",
   "execution_count": 17,
   "id": "188a6e1d",
   "metadata": {},
   "outputs": [
    {
     "data": {
      "image/png": "[encoded data removed]",
      "text/plain": [
       "<Figure size 432x288 with 1 Axes>"
      ]
     },
     "metadata": {
      "needs_background": "light"
     },
     "output_type": "display_data"
    }
   ],
   "source": [
    "# Visualize the clusters\n",
    "plt.scatter(x, y)\n",
    "plt.show()"
   ]
  },
  {
   "cell_type": "markdown",
   "id": "3c0b5d4a",
   "metadata": {},
   "source": [
    "## k-Means"
   ]
  },
  {
   "cell_type": "code",
   "execution_count": 18,
   "id": "f204ffcb",
   "metadata": {},
   "outputs": [
    {
     "name": "stderr",
     "output_type": "stream",
     "text": [
      "C:\\Users\\kazha\\anaconda3\\lib\\site-packages\\sklearn\\cluster\\_kmeans.py:881: UserWarning: KMeans is known to have a memory leak on Windows with MKL, when there are less chunks than available threads. You can avoid it by setting the environment variable OMP_NUM_THREADS=3.\n",
      "  warnings.warn(\n"
     ]
    },
    {
     "data": {
      "text/html": [
       "<div>\n",
       "<style scoped>\n",
       "    .dataframe tbody tr th:only-of-type {\n",
       "        vertical-align: middle;\n",
       "    }\n",
       "\n",
       "    .dataframe tbody tr th {\n",
       "        vertical-align: top;\n",
       "    }\n",
       "\n",
       "    .dataframe thead th {\n",
       "        text-align: right;\n",
       "    }\n",
       "</style>\n",
       "<table border=\"1\" class=\"dataframe\">\n",
       "  <thead>\n",
       "    <tr style=\"text-align: right;\">\n",
       "      <th></th>\n",
       "      <th>k</th>\n",
       "      <th>inertia</th>\n",
       "    </tr>\n",
       "  </thead>\n",
       "  <tbody>\n",
       "    <tr>\n",
       "      <th>0</th>\n",
       "      <td>1</td>\n",
       "      <td>46445.752170</td>\n",
       "    </tr>\n",
       "    <tr>\n",
       "      <th>1</th>\n",
       "      <td>2</td>\n",
       "      <td>45378.964032</td>\n",
       "    </tr>\n",
       "    <tr>\n",
       "      <th>2</th>\n",
       "      <td>3</td>\n",
       "      <td>44312.177478</td>\n",
       "    </tr>\n",
       "    <tr>\n",
       "      <th>3</th>\n",
       "      <td>4</td>\n",
       "      <td>43242.958279</td>\n",
       "    </tr>\n",
       "    <tr>\n",
       "      <th>4</th>\n",
       "      <td>5</td>\n",
       "      <td>42894.706407</td>\n",
       "    </tr>\n",
       "    <tr>\n",
       "      <th>5</th>\n",
       "      <td>6</td>\n",
       "      <td>41160.156042</td>\n",
       "    </tr>\n",
       "    <tr>\n",
       "      <th>6</th>\n",
       "      <td>7</td>\n",
       "      <td>40441.215993</td>\n",
       "    </tr>\n",
       "    <tr>\n",
       "      <th>7</th>\n",
       "      <td>8</td>\n",
       "      <td>40252.114260</td>\n",
       "    </tr>\n",
       "    <tr>\n",
       "      <th>8</th>\n",
       "      <td>9</td>\n",
       "      <td>39314.866240</td>\n",
       "    </tr>\n",
       "    <tr>\n",
       "      <th>9</th>\n",
       "      <td>10</td>\n",
       "      <td>38786.491624</td>\n",
       "    </tr>\n",
       "  </tbody>\n",
       "</table>\n",
       "</div>"
      ],
      "text/plain": [
       "    k       inertia\n",
       "0   1  46445.752170\n",
       "1   2  45378.964032\n",
       "2   3  44312.177478\n",
       "3   4  43242.958279\n",
       "4   5  42894.706407\n",
       "5   6  41160.156042\n",
       "6   7  40441.215993\n",
       "7   8  40252.114260\n",
       "8   9  39314.866240\n",
       "9  10  38786.491624"
      ]
     },
     "execution_count": 18,
     "metadata": {},
     "output_type": "execute_result"
    }
   ],
   "source": [
    "# Identify the best number of clusters using the elbow curve\n",
    "inertia = []\n",
    "k = list(range(1, 11))\n",
    "\n",
    "for i in k:\n",
    "    km = KMeans(n_clusters=i, random_state=0)\n",
    "    km.fit(df_crypto_pca)\n",
    "    inertia.append(km.inertia_)\n",
    "    \n",
    "elbow_data = {\"k\": k, \"inertia\": inertia}\n",
    "df_elbow = pd.DataFrame(elbow_data)\n",
    "df_elbow.head(10)"
   ]
  },
  {
   "cell_type": "code",
   "execution_count": 19,
   "id": "767fcec4",
   "metadata": {},
   "outputs": [
    {
     "data": {
      "image/png": "[encoded data removed]",
      "text/plain": [
       "<Figure size 432x288 with 1 Axes>"
      ]
     },
     "metadata": {
      "needs_background": "light"
     },
     "output_type": "display_data"
    }
   ],
   "source": [
    "# Plot the elbow curve to find the best candidate(s) for k\n",
    "plt.plot(df_elbow['k'], df_elbow['inertia'])\n",
    "plt.xticks(range(1, 11))\n",
    "plt.ylabel('Inertia')\n",
    "plt.xlabel(\"Number of cluster\")\n",
    "plt.title(\"Elbow curve for customer data\")\n",
    "plt.show()"
   ]
  },
  {
   "cell_type": "markdown",
   "id": "1d1d9b74",
   "metadata": {},
   "source": [
    "There is no clear elbow shown in the graph. Will use 4 as this is where the slope starts to decrease."
   ]
  },
  {
   "cell_type": "code",
   "execution_count": 31,
   "id": "c5af89b8",
   "metadata": {},
   "outputs": [
    {
     "data": {
      "text/html": [
       "<div>\n",
       "<style scoped>\n",
       "    .dataframe tbody tr th:only-of-type {\n",
       "        vertical-align: middle;\n",
       "    }\n",
       "\n",
       "    .dataframe tbody tr th {\n",
       "        vertical-align: top;\n",
       "    }\n",
       "\n",
       "    .dataframe thead th {\n",
       "        text-align: right;\n",
       "    }\n",
       "</style>\n",
       "<table border=\"1\" class=\"dataframe\">\n",
       "  <thead>\n",
       "    <tr style=\"text-align: right;\">\n",
       "      <th></th>\n",
       "      <th>0</th>\n",
       "      <th>1</th>\n",
       "      <th>class</th>\n",
       "    </tr>\n",
       "  </thead>\n",
       "  <tbody>\n",
       "    <tr>\n",
       "      <th>0</th>\n",
       "      <td>-11.670323</td>\n",
       "      <td>8.802567</td>\n",
       "      <td>0</td>\n",
       "    </tr>\n",
       "    <tr>\n",
       "      <th>1</th>\n",
       "      <td>-7.476568</td>\n",
       "      <td>13.059622</td>\n",
       "      <td>0</td>\n",
       "    </tr>\n",
       "    <tr>\n",
       "      <th>2</th>\n",
       "      <td>-20.992287</td>\n",
       "      <td>15.535686</td>\n",
       "      <td>0</td>\n",
       "    </tr>\n",
       "    <tr>\n",
       "      <th>3</th>\n",
       "      <td>-23.326319</td>\n",
       "      <td>-16.349209</td>\n",
       "      <td>2</td>\n",
       "    </tr>\n",
       "    <tr>\n",
       "      <th>4</th>\n",
       "      <td>13.987098</td>\n",
       "      <td>-7.744192</td>\n",
       "      <td>3</td>\n",
       "    </tr>\n",
       "  </tbody>\n",
       "</table>\n",
       "</div>"
      ],
      "text/plain": [
       "           0          1  class\n",
       "0 -11.670323   8.802567      0\n",
       "1  -7.476568  13.059622      0\n",
       "2 -20.992287  15.535686      0\n",
       "3 -23.326319 -16.349209      2\n",
       "4  13.987098  -7.744192      3"
      ]
     },
     "execution_count": 31,
     "metadata": {},
     "output_type": "execute_result"
    }
   ],
   "source": [
    "# Put t-SNE fetures in a dataframe\n",
    "tsne_df = pd.DataFrame(tsne_features).reset_index(drop=True)\n",
    "# Initialize the K-Means model\n",
    "model = KMeans(n_clusters=4, random_state=30)\n",
    "# Fit the model\n",
    "model.fit(tsne_df)\n",
    "# Predict clusters\n",
    "predictions = model.predict(tsne_df)\n",
    "# Add the predicted class columns\n",
    "tsne_df['class'] = model.labels_\n",
    "tsne_df.head()"
   ]
  },
  {
   "cell_type": "code",
   "execution_count": 32,
   "id": "4d2b5078",
   "metadata": {},
   "outputs": [
    {
     "data": {
      "text/plain": [
       "3    223\n",
       "0    145\n",
       "1     94\n",
       "2     70\n",
       "Name: class, dtype: int64"
      ]
     },
     "execution_count": 32,
     "metadata": {},
     "output_type": "execute_result"
    }
   ],
   "source": [
    "# Value counts of clusters\n",
    "tsne_df['class'].value_counts()"
   ]
  },
  {
   "cell_type": "code",
   "execution_count": null,
   "id": "c2cdb41d",
   "metadata": {},
   "outputs": [],
   "source": []
  },
  {
   "cell_type": "code",
   "execution_count": null,
   "id": "bee07e76",
   "metadata": {},
   "outputs": [],
   "source": []
  }
 ],
 "metadata": {
  "kernelspec": {
   "display_name": "Python 3",
   "language": "python",
   "name": "python3"
  },
  "language_info": {
   "codemirror_mode": {
    "name": "ipython",
    "version": 3
   },
   "file_extension": ".py",
   "mimetype": "text/x-python",
   "name": "python",
   "nbconvert_exporter": "python",
   "pygments_lexer": "ipython3",
   "version": "3.8.8"
  }
 },
 "nbformat": 4,
 "nbformat_minor": 5
}
